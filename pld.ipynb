{
 "cells": [
  {
   "cell_type": "markdown",
   "metadata": {},
   "source": [
    "# PLD - Circuit logique combinatoire - SUJET"
   ]
  },
  {
   "cell_type": "markdown",
   "metadata": {},
   "source": [
    "**Ressources** : <a href=\"https://webge.synology.me/dokuwiki/doku.php?id=python:accueilpython\" target=\"_blank\"><input type=\"button\" value=\"Wiki Python sur WebGE\"></a> <a href=\"#\" target=\"_blank\"><input type=\"button\" value=\"Document réponse\"></a>"
   ]
  },
  {
   "cell_type": "markdown",
   "metadata": {},
   "source": [
    "### Présentation\n",
    "Les circuits électroniques (microprocesseur, chipset, System on Chip) assurent le fonctionnement de nos outils numériques (ordinateur, tablette, smartphone, etc.). Ils sont constitués de fonctions logiques complexes (unité arithmétique et logique, multiplexeur, décodeur etc.) issues de l'assemblage d'opérateurs logiques <strong>combinatoires</strong> (ET, OU, NON, etc.) et séquentiels (bascules). \n",
    "\n",
    "Dans ce document, vous allez concevoir et tester une fonction \"**Décodage**\" destinée à un circuit logique programmable."
   ]
  },
  {
   "cell_type": "markdown",
   "metadata": {},
   "source": [
    "### Historique\n",
    "\n",
    "<table >\n",
    "    <tr>\n",
    "        <td style=\"text-align:left; font-size:14px\">\n",
    "            Dans les <strong>années 80</strong>, une fonction logique telle que celle représentée par le logigramme ci-dessous nécessitait l’utilisation de trois composants logiques \"classiques\" intégrant chacun quatre portes. Ces composants étaient soudés et interconnectés sur un circuit imprimé.\n",
    "        </td>\n",
    "        <td>\n",
    "            <img src=\"img/7400.jpg\">\n",
    "        </td>\n",
    "    </tr>\n",
    "</table>\n",
    "\n",
    "![decodeur.jpg](img/decodeur.jpg)\n",
    "\n",
    "<table >\n",
    "    <tr>\n",
    "        <td style=\"text-align:left; font-size:14px\">\n",
    "            <img src=\"img/altera.jpg\" width=\"250px\" height=\"166px\">\n",
    "        </td>\n",
    "        <td style=\"text-align:left; font-size:14px\">\n",
    "            On dispose <strong>aujourd’hui</strong> de <strong>circuits logiques programmables</strong> (<strong>Programmable Logic Devices</strong>) capables, selon leur complexité, de remplacer quelques dizaines à plusieurs centaines de milliers de circuits logiques \"classiques\". Le mot \"programmable\" ne signifie pas que le circuit exécute un programme mais que les opérateurs logiques qu'il contient sont interconnectés à l'aide d'un programme ! Si la fonction réalisée ne correspond pas à celle attendue ou si on souhaite la faire évoluer, le composant pourra être \"effacé\" et reprogrammé. <a href=\"http://meteosat.pessac.free.fr/Cd_elect/CFAO/cpld/pld/html_pld/pld.htm\" target=\"_blank\">Lien</a> pour en savoir plus.<br><br>\n",
    "            Un circuit logique programmable renferme un grand nombre d’<strong>opérateurs logiques combinatoires</strong> (<strong>ET, OU, NON, etc</strong>.) et séquentiels (bascules). Ce type de composant est utilisé lors de la <strong>conception ou lors de la réorganisation</strong> d’un produit nécessitant la mise en œuvre d’un grand nombre d’opérateurs logiques, car il améliore la fiabilité du produit, diminue son coût de fabrication et lui confère une certaine évolutivité. <a href=\"https://fr.wikipedia.org/wiki/Circuit_logique_programmable\" target=\"_blank\">Wikipédia</a> pour en savoir plus.\n",
    "        </td>\n",
    "    </tr>\n",
    "</table>\n",
    "\n",
    "<table >\n",
    "    <tr>\n",
    "        <td style=\"text-align:left; font-size:14px\">\n",
    "            On assure l’<strong>interconnexion</strong> des opérateurs logiques avec un <strong>outil de programmation</strong> (ordinateur + logiciel).<br><br>\n",
    "Lorsque la fonction à intégrer dans le PLD est combinatoire, on peut l'obtenir à partir des <strong>équations logiques booléennes</stong> qui la décrivent. \n",
    "        </td>\n",
    "        <td>\n",
    "            <img src=\"img/quartus.jpg\" width=\"200px\">\n",
    "        </td>\n",
    "    </tr>\n",
    "</table>\n",
    "\n",
    "<table >\n",
    "    <tr>\n",
    "        <td><img src=\"img/migen_logo.png\"></td>\n",
    "         <td style=\"text-align:left; font-size:14px\">La \"programmation\" d'un circuit logique programmable est réalisée avec un langage de description matériel ou  un outil de saisie graphique. Après compilation de cette description, on obtient un fichier de configuration pour le circuit choisi. <br> <strong>VHDL</strong> et <strong>Verilog</strong> sont les deux langages de description les plus répandus. Il existe cependant un outil, <a href=\"https://m-labs.hk/migen/manual/introduction.html\" target=\"_blank\">migen</a>, basé sur Python qui vise à automatiser davantage le processus de conception.</td>\n",
    "    </tr>\n",
    "</table>"
   ]
  },
  {
   "cell_type": "markdown",
   "metadata": {},
   "source": [
    "### La fonction \"Décodage\"\n",
    "La fonction logique **Décodage** est une fonction **combinatoire**. Elle reçoit N bits en entrée (2<sup>N</sup> combinaisons) et délivre M bits en sortie telles que M ≤ 2<sup>N</sup>. La fonction décodage est notamment utilisée dans les microprocesseurs.<img src=\"img/decodeur.gif\">\n",
    "\n",
    "### Enoncé\n",
    "Dans le cadre de la modification d’une carte électronique, on souhaite intégrer la fonction **Décodage**, initialement réalisée avec trois composants logiques, dans un PLD. Le logigramme de cette fonction est donné ci-dessous.<img src=\"img/decodeur3.png\">"
   ]
  },
  {
   "cell_type": "markdown",
   "metadata": {},
   "source": [
    "#### Logigramme\n",
    "<img src=\"img/decodeur2.png\">\n",
    "<p style=\"text-align:right;\">Dessiné avec <a href=\"https://www.digikey.com/schemeit/\" target=\"_blank\">Scheme-it.</a></p>"
   ]
  },
  {
   "cell_type": "markdown",
   "metadata": {},
   "source": [
    "### A. Détermination des équations du circuit\n",
    "On limite l'étude à trois des six sorties de la fonction \"**Décodage**\". "
   ]
  },
  {
   "cell_type": "markdown",
   "metadata": {},
   "source": [
    "**Activité 1.** Sachant que :\n",
    "- RAM = f(PSEN, A15)\n",
    "- ROM = f(PSEN, RD, A15)\n",
    "- OE = f(A15, A14, A13, A12)\n",
    "\n",
    "**Ecrivez** les équations de RAM, ROM et OE sur le document réponse. "
   ]
  },
  {
   "cell_type": "markdown",
   "metadata": {},
   "source": [
    "### B. Test du circuit\n",
    "Après la phase de programmation d’un PLD, il est nécessaire d’en vérifier le fonctionnement. Dans le cas du test d’une fonction combinatoire, il suffit de placer sur ses entrées toutes les combinaisons logiques qu’elle est susceptible de recevoir et de comparer chaque état de sa sortie avec celui attendu. Ceci est fait automatiquement par l’outil de programmation. Seule l’écriture des vecteurs de test incombe au concepteur.\n",
    "\n",
    "Un vecteur de test se compose des **valeurs à placer sur les entrées** (E1, E2, .., En) de la fonction à tester et du **résultat attendu** sur sa sortie (S). Le vecteur de test i peut s'exprimer sous la forme : **Vi(E1, E2, .., En, S)**\n",
    "\n",
    "__Exemple__ : Tests d’une fonction f() implantée dans un PLD telle que S = /E1.E2 + E1./E2 (/ <=> not)\n",
    "\n",
    "<img src=\"img/extest.png\" title=\"Fonction Ou Exclusif\">\n",
    "\n",
    "Dans l’exemple ci-dessus, les vecteurs V1(0,0,0), V2(0,1,1), V3(1,0,1) et V4(1,1,0) sont placés successivement sur les entrées du PLD reliées à la fonction f(). \n",
    "\n",
    "<p style=\"background-color:lightgrey; text-align:center; font-size:15px;\">Pour tester une sortie logique combinatoire, il est nécessaire d’écrire <strong>2<sup>n</sup></strong> vecteurs. <br> <strong>n représente le nombre d’entrées de la fonction.</strong>.</p>"
   ]
  },
  {
   "cell_type": "markdown",
   "metadata": {},
   "source": [
    "#### B1. Préparation des vecteurs de test"
   ]
  },
  {
   "cell_type": "markdown",
   "metadata": {},
   "source": [
    "**Activité 2. Complétez** les tables de vérité du document réponse avec les **résultats attendus** sur les sorties **ROM**, **RAM** et **OE**."
   ]
  },
  {
   "cell_type": "markdown",
   "metadata": {},
   "source": [
    "#### B2. Test d'une fonction logique en Python\n",
    "Le langage Python dispose des opérateurs logiques **and**, **or** et **not** pour écrire des équations logiques. Les états logiques peuvent être représentés par des 1 et des 0. **0** <=>False, **1** <=> True. \n",
    "\n",
    "L'exemple ci-dessous illustre le test d'une fonction **Ou Exclusif** à 2 entrées."
   ]
  },
  {
   "cell_type": "code",
   "execution_count": 21,
   "metadata": {},
   "outputs": [
    {
     "name": "stdout",
     "output_type": "stream",
     "text": [
      "[E1,E2] -> S \n",
      "[0,0] -> 0\n",
      "[0,1] -> 1\n",
      "[1,0] -> 1\n",
      "[1,1] -> 0\n"
     ]
    }
   ],
   "source": [
    "# Exemple introductif : test d'une porte ET à 2 entrées\n",
    "# So est la sortie obtenue, \n",
    "# Sa est la sortie attendue\n",
    "Vecteurs_ET = [(0, 0, 0), (0, 1, 1), (1, 0, 1), (1, 1, 0)] # Une liste de tuples matérialise la table des vecteurs de test\n",
    "print(\"[E1,E2] -> S \")\n",
    "for E1, E2, Sa in Vecteurs_ET:\n",
    "    So = (not(E1) and E2 or E1 and not(E2))\n",
    "    if Sa == So: \n",
    "        print(f\"[{E1},{E2}] -> {Sa}\") # Afficher Sa garantie d'avoir uniquement des 0 et des 1 dans la table !\n",
    "    else:\n",
    "        print(f\"[{E1},{E2}] -> Erreur\")"
   ]
  },
  {
   "cell_type": "markdown",
   "metadata": {},
   "source": [
    "**Activité 3. Simulons des erreurs de frappe ! \n",
    "Remplacez** le vecteur (0,1,1) par (0,1,0). Remplacez le or par un and. Que remarquez-vous ? Que dois-t-on faire lorsqu'une ou plusieurs erreurs apparaîssent dans la table ? Répondez sur le document réponse."
   ]
  },
  {
   "cell_type": "markdown",
   "metadata": {},
   "source": [
    "#### B3. Test des sorties ROM, RAM et OE en Python"
   ]
  },
  {
   "cell_type": "markdown",
   "metadata": {},
   "source": [
    "**Activité 4**. En vous inspirant de l'exemple précédent, et en utilisant les résultats des activités 1 et 2, testez la sortie **RAM**."
   ]
  },
  {
   "cell_type": "code",
   "execution_count": 31,
   "metadata": {},
   "outputs": [
    {
     "name": "stdout",
     "output_type": "stream",
     "text": [
      "[A15,PSEN] -> RAM\n"
     ]
    }
   ],
   "source": [
    "Vecteurs_RAM = [] # A compléter\n",
    "print(\"[A15,PSEN] -> RAM\")\n",
    "# A compléter"
   ]
  },
  {
   "cell_type": "markdown",
   "metadata": {},
   "source": [
    "**Activité 5**. En vous inspirant de l'exemple précédent, et en utilisant les résultats des activités 1 et 2, testez la sortie **R0M**."
   ]
  },
  {
   "cell_type": "code",
   "execution_count": 33,
   "metadata": {},
   "outputs": [
    {
     "name": "stdout",
     "output_type": "stream",
     "text": [
      "[A15,RD,PSEN] -> ROM\n"
     ]
    }
   ],
   "source": [
    "Vecteurs_ROM = []\n",
    "print(\"[A15,RD,PSEN] -> ROM\")\n",
    "# A compléter"
   ]
  },
  {
   "cell_type": "markdown",
   "metadata": {},
   "source": [
    "**Activité 6**. En vous inspirant de l'exemple précédent, et en utilisant les résultats des activités 1 et 2, testez la sortie **OE**."
   ]
  },
  {
   "cell_type": "code",
   "execution_count": 32,
   "metadata": {},
   "outputs": [
    {
     "name": "stdout",
     "output_type": "stream",
     "text": [
      "[A15,A14,A13,A12] -> OE\n"
     ]
    }
   ],
   "source": [
    "Vecteurs_OE = [] # A compléter\n",
    "print(\"[A15,A14,A13,A12] -> OE\")\n",
    "# A compléter"
   ]
  },
  {
   "cell_type": "markdown",
   "metadata": {},
   "source": [
    "#### B4. Génération automatique de la table des vecteurs de test"
   ]
  },
  {
   "cell_type": "markdown",
   "metadata": {},
   "source": [
    "Lorsque le nombre d'entrées augmente, la table des vecteurs de test devient imposante. Pour **n=6**, il faut écrire **64 vecteurs**. L'écriture d'une telle table devient fastidieuse et le risque d'erreur augmente. Il devient alors nécessaire de disposer d'une fonction de génération automatique de la table des vecteurs de test. \n",
    "\n",
    "On propose l'algorithme ci-dessous."
   ]
  },
  {
   "cell_type": "raw",
   "metadata": {},
   "source": [
    "Algorithme creerVecteursTest(n,vs)\n",
    "Entrées\n",
    "n : nombre d'entrées de la fonction à tester\n",
    "vs : liste des valeurs attendues pour la sortie s\n",
    "\n",
    "Sortie\n",
    "vecteurs : table des vecteurs de test\n",
    "\n",
    "début\n",
    "    pour i variant de 0 à nombre de vecteur - 1 par pas de 1\n",
    "    faire\n",
    "       Construire le vecteur i constitué de (b_n-1, b_n-2,..., b0, Sa)\n",
    "       vecteur <- vecteur i\n",
    "    fin faire\n",
    "fin"
   ]
  },
  {
   "cell_type": "markdown",
   "metadata": {},
   "source": [
    "**Remarque** : Python dispose de la fonction native <a href=\"https://docs.python.org/fr/3.6/library/functions.html#bin\" target=\"_blank\">bin</a>. Elle convertit un nombre entier en binaire dans une chaîne avec le préfixe 0b."
   ]
  },
  {
   "cell_type": "code",
   "execution_count": 28,
   "metadata": {},
   "outputs": [
    {
     "data": {
      "text/plain": [
       "'0b1000'"
      ]
     },
     "execution_count": 28,
     "metadata": {},
     "output_type": "execute_result"
    }
   ],
   "source": [
    "# Exemple \n",
    "bin(8)"
   ]
  },
  {
   "cell_type": "markdown",
   "metadata": {},
   "source": [
    "**Activité 7**. **Complétez** la fonction *creerVecteursTest* ébauchée ci-dessous. *Conseil : développer la fonction dans un éditeur.*\n",
    "\n",
    "*Résultat attendu* <br>\n",
    "[(0, 0, 0, 0), (0, 0, 1, 1), (0, 1, 0, 0), (0, 1, 1, 1), (1, 0, 0, 0), (1, 0, 1, 0), (1, 1, 0, 0), (1, 1, 1, 1)]"
   ]
  },
  {
   "cell_type": "code",
   "execution_count": 30,
   "metadata": {},
   "outputs": [
    {
     "name": "stdout",
     "output_type": "stream",
     "text": [
      "[]\n"
     ]
    }
   ],
   "source": [
    "def creerVecteursTest(n, vs):\n",
    "    vecteurs = []\n",
    "    # A compléter\n",
    "    \n",
    "    return vecteurs\n",
    "\n",
    "# Test\n",
    "vs = [0, 1, 0, 1, 0, 0, 0, 1]\n",
    "tableVecteurs = creerVecteursTest(3, vs)\n",
    "print(tableVecteurs)"
   ]
  },
  {
   "cell_type": "markdown",
   "metadata": {},
   "source": [
    "**Activité 8**. **Utilisez** la fonction *creerVecteurTest* pour tester **OE**."
   ]
  },
  {
   "cell_type": "code",
   "execution_count": null,
   "metadata": {},
   "outputs": [],
   "source": [
    "Sa = [] # A compléter\n",
    "Vecteurs_OE = creerVecteursTest(4, Sa)\n",
    "print(\"[A15,A14,A13,A12] -> OE\")"
   ]
  }
 ],
 "metadata": {
  "kernelspec": {
   "display_name": "Python 3.8.3 32-bit",
   "language": "python",
   "name": "python38332bit0c5f0624af374eaeb3d8b87af2df0b50"
  },
  "language_info": {
   "codemirror_mode": {
    "name": "ipython",
    "version": 3
   },
   "file_extension": ".py",
   "mimetype": "text/x-python",
   "name": "python",
   "nbconvert_exporter": "python",
   "pygments_lexer": "ipython3",
   "version": "3.8.3"
  }
 },
 "nbformat": 4,
 "nbformat_minor": 4
}
