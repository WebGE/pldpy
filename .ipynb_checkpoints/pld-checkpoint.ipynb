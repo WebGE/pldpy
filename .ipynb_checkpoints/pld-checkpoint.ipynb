{
 "cells": [
  {
   "cell_type": "markdown",
   "metadata": {},
   "source": [
    "# PLD - Logique combinatoire - PLD - SUJET"
   ]
  },
  {
   "cell_type": "markdown",
   "metadata": {},
   "source": [
    "**Ressources** : <a href=\"https://webge.fr/dokuwiki/doku.php?id=python:accueilpython\" target=\"_blank\"><input type=\"button\" value=\"Wiki Python sur WebGE\"></a> <a href=\"http://webge.fr/doc/tnsi/tp/Architectures/TNSI_ARCH_DR_Logique_Comb_PLD.zip\" target=\"_blank\"><input type=\"button\" value=\"Document réponse\"></a><a href=\"https://webge.fr/doc/tnsi/tp/Architectures/AidecreerVecteursTest.pdf\" target=\"_blank\"><input type=\"button\" value=\"Aide creerVecteursTest\"></a>"
   ]
  },
  {
   "cell_type": "markdown",
   "metadata": {},
   "source": [
    "---\n",
    "\n",
    "**Sommaire**\n",
    "<ol>\n",
    "    <li>Présentation\n",
    "        <ol>\n",
    "            <li>Historique</li>\n",
    "            <li>La fonction \"décodage\"</li>\n",
    "        </ol>\n",
    "    </li>\n",
    "    <li>Enoncé</li>\n",
    "    <li>Equations de la fonction \"Décodage\"</li>\n",
    "    <li>Simulation\n",
    "        <ol>\n",
    "            <li>Préparation des vecteurs de test</li>\n",
    "            <li>Exemple d'utilisation des vecteurs de test</li>\n",
    "            <li>Test des sorties RAM, ROM et OE de la fonction \"Décodage\"</li>\n",
    "            <li>Génération automatique de la table des vecteurs de test</li>\n",
    "        </ol>\n",
    "    </li>\n",
    "</ol>\n",
    "\n",
    "----"
   ]
  },
  {
   "cell_type": "markdown",
   "metadata": {},
   "source": [
    "## 1. Présentation\n",
    "Les circuits électroniques (microprocesseur, chipset, System on Chip) assurent le fonctionnement de nos outils numériques (ordinateur, tablette, smartphone, etc.). Ils sont constitués de fonctions logiques complexes (unité arithmétique et logique, multiplexeur, décodeur, etc.) issues de l'assemblage d'opérateurs logiques <strong>combinatoires</strong> (ET, OU, NON, etc.) et séquentiels (bascules). \n",
    "\n",
    "Dans ce document, vous allez **simuler** et **tester** une fonction \"**Décodage**\" réorganisée avec un circuit logique programmable."
   ]
  },
  {
   "cell_type": "markdown",
   "metadata": {},
   "source": [
    "### 1.A Historique\n",
    "\n",
    "<table >\n",
    "    <tr>\n",
    "        <td style=\"text-align:left; font-size:14px\">\n",
    "            <p>Dans les <strong>années 80</strong>, une fonction logique telle que celle représentée par le logigramme ci-dessous nécessitait l’utilisation de <strong>trois circuits intégrés </strong> de type <a href=\"https://fr.wikipedia.org/wiki/Circuit_int%C3%A9gr%C3%A9\" target=\"_blank\">SSI</a> intégrant chacun quatre portes logiques.</p> <br> Ces composants étaient soudés et interconnectés par des pistes de cuivre sur un circuit imprimé.\n",
    "        </td>\n",
    "        <td>\n",
    "            <img src=\"img/7400.gif\" width=\"250px\">\n",
    "        </td>\n",
    "    </tr>\n",
    "</table>\n",
    "\n",
    "![decodeur.jpg](img/decodeur.jpg)\n",
    "\n",
    "<table >\n",
    "    <tr>\n",
    "        <td>\n",
    "            <img src=\"img/fpga.png\">\n",
    "        </td>\n",
    "        <td style=\"text-align:left; font-size:14px\">\n",
    "            On dispose <strong>aujourd’hui</strong> de <strong>circuits logiques programmables</strong> (<strong>P</strong>rogrammable <strong>L</strong>ogic <strong>D</strong>evices) capables, selon leur complexité, de remplacer quelques dizaines à plusieurs centaines de milliers de circuits intégrés. Le mot \"programmable\" ne signifie pas que le circuit exécute un programme, mais que les opérateurs logiques qu'il contient sont interconnectés à l'aide d'un programme ! Si la fonction réalisée ne correspond pas à celle attendue ou si on souhaite la faire évoluer, le composant pourra être \"effacé\" et reprogrammé. <a href=\"http://meteosat.pessac.free.fr/Cd_elect/CFAO/cpld/pld/html_pld/pld.htm\" target=\"_blank\"><br>Pour en savoir plus</a>.<br><br>\n",
    "            Un circuit logique programmable renferme un grand nombre d’<strong>opérateurs logiques combinatoires</strong> (<strong>ET, OU, NON, etc</strong>.) et séquentiels (bascules). Ce type de composant est utilisé lors de la <strong>conception ou lors de la réorganisation</strong> d’un produit nécessitant la mise en œuvre d’un grand nombre d’opérateurs logiques, car il améliore la fiabilité du produit, diminue son coût de fabrication et lui confère une certaine évolutivité. <a href=\"https://fr.wikipedia.org/wiki/Circuit_logique_programmable\" target=\"_blank\">Wikipédia</a>.\n",
    "        </td>\n",
    "    </tr>\n",
    "</table>\n",
    "\n",
    "<table >\n",
    "    <tr>\n",
    "        <td style=\"text-align:left; font-size:14px\">\n",
    "            L’<strong>interconnexion</strong> des opérateurs logiques est réalisée avec un <strong>outil de programmation</strong> (ordinateur + logiciel).<br><br>\n",
    "Lorsque la fonction à intégrer dans le PLD est <strong>combinatoire</strong> et suffisamment simple, il suffit d'écrire les <strong>équations logiques booléennes de ses sorties</strong> avec le logiciel de programmation. \n",
    "        </td>\n",
    "        <td>\n",
    "            <img src=\"img/quartus.jpg\" width=\"200px\">\n",
    "        </td>\n",
    "    </tr>\n",
    "</table>\n",
    "\n",
    "<table >\n",
    "    <tr>\n",
    "        <td><img src=\"img/migen_logo.png\"></td>\n",
    "         <td style=\"text-align:left; font-size:14px\">La \"programmation\" d'un circuit logique programmable est réalisée avec un langage de description matériel ou  un outil de saisie graphique. Après compilation de cette description, on obtient un fichier de configuration pour le circuit choisi. <br> <strong>VHDL</strong> et <strong>Verilog</strong> sont les deux langages de description les plus répandus. Il existe cependant un outil, <a href=\"https://m-labs.hk/migen/manual/introduction.html\" target=\"_blank\">migen</a>, basé sur Python qui vise à automatiser davantage le processus de conception.</td>\n",
    "    </tr>\n",
    "</table>"
   ]
  },
  {
   "cell_type": "markdown",
   "metadata": {},
   "source": [
    "### 1.B La fonction \"Décodage\"\n",
    "La fonction logique \"**Décodage**\" est une fonction **combinatoire**. Elle reçoit N bits en entrée (2<sup>N</sup> combinaisons) et délivre M bits en sortie telle que <strong>M ≤ 2<sup>N</sup></strong>. La fonction \"Décodage\" est courante en électronique numérique. Elle est notamment utilisée dans les microprocesseurs pour réaliser le décodeur d'instructions.<img src=\"img/registres.jpg\">\n",
    "\n",
    "## 2. Enoncé\n",
    "Dans le cadre de la modification d’une carte électronique, on souhaite intégrer une fonction **Décodage**, initialement réalisée avec trois composants logiques, dans un PLD. Le logigramme de cette fonction est donné ci-dessous.<img src=\"img/decodeur3.png\">"
   ]
  },
  {
   "cell_type": "markdown",
   "metadata": {},
   "source": [
    "#### Logigramme\n",
    "<img src=\"img/decodeur2.png\">\n",
    "<p style=\"text-align:right;\">Dessiné avec <a href=\"https://www.digikey.com/schemeit/\" target=\"_blank\">Scheme-it.</a></p>"
   ]
  },
  {
   "cell_type": "markdown",
   "metadata": {},
   "source": [
    "## 3. Equations de la fonction \"Décodage\"\n",
    "On limite l'étude à trois des six sorties de la fonction \"**Décodage**\". "
   ]
  },
  {
   "cell_type": "markdown",
   "metadata": {},
   "source": [
    "> **Activité 1. Complétez** le schéma fonctionnel sur le document réponse. Sachant que :\n",
    "> - RAM = f(PSEN, A15)\n",
    "> - ROM = f(PSEN, RD, A15)\n",
    "> - OE = f(A15, A14, A13, A12)\n",
    ">\n",
    "> **Ecrivez** les équations de RAM, ROM et OE sur le **document réponse**. "
   ]
  },
  {
   "cell_type": "markdown",
   "metadata": {},
   "source": [
    "## 4. Simulation\n",
    "Après la phase de programmation d’un PLD, il est nécessaire d’en vérifier le fonctionnement. Dans le cas du test d’une fonction combinatoire, il suffit de placer sur ses entrées toutes les combinaisons logiques qu’elle est susceptible de recevoir et de comparer chaque état de sa sortie avec celui attendu. Ceci est fait automatiquement par l’outil de programmation. Seule l’écriture des **vecteurs de test** incombe au concepteur.\n",
    "\n",
    "Un vecteur de test se compose des **valeurs à placer sur les entrées** (E1, E2, .., En) de la fonction à tester et du **résultat attendu** sur sa sortie (S). Le vecteur de test i peut s'exprimer sous la forme : **Vi(E1, E2, .., En, S)**\n",
    "\n",
    "__Exemple__ : test d’une fonction f() implantée dans un PLD telle que **S = /E1.E2 + E1./E2** (/ <=> not)\n",
    "\n",
    "<img src=\"img/extest.png\" title=\"Fonction Ou Exclusif\">\n",
    "\n",
    "Dans l’exemple ci-dessus, les vecteurs V1(0,0,0), V2(0,1,1), V3(1,0,1) et V4(1,1,0) sont placés successivement sur les entrées du PLD reliées à la fonction f(). \n",
    "\n",
    "<p style=\"background-color:lightgrey; text-align:center; font-size:15px;\">Pour tester une sortie logique combinatoire, il est nécessaire d’écrire <strong>2<sup>n</sup></strong> vecteurs. <br> <strong>n représente le nombre d’entrées de la fonction.</strong>.</p>"
   ]
  },
  {
   "cell_type": "markdown",
   "metadata": {},
   "source": [
    "### 4.A Préparation des vecteurs de test"
   ]
  },
  {
   "cell_type": "markdown",
   "metadata": {},
   "source": [
    "> **Activité 2. Complétez** les tables de vérité du document réponse avec les **résultats attendus** sur les sorties **RAM**, **ROM** et **OE**."
   ]
  },
  {
   "cell_type": "markdown",
   "metadata": {},
   "source": [
    "### 4.B Exemple d'utilisation des vecteurs de test\n",
    "Le langage Python dispose des opérateurs logiques **and**, **or** et **not** pour écrire des équations logiques. Les états logiques peuvent être représentés par des 1 et des 0. **0** <=>False, **1** <=> True. \n",
    "\n",
    "L'exemple ci-dessous illustre le test d'un opérateur **Ou Exclusif** à 2 entrées."
   ]
  },
  {
   "cell_type": "code",
   "execution_count": null,
   "metadata": {},
   "outputs": [],
   "source": [
    "# Exemple introductif\n",
    "'''\n",
    "Test d'une porte OU Exclusif à 2 entrées\n",
    "E1, E2 : entrées\n",
    "S : sortie (Sa est la sortie attendue, So est la sortie obtenue)\n",
    "'''\n",
    "Vecteurs_XOR = [(0, 0, 0), (0, 1, 1), (1, 0, 1), (1, 1, 0)] # Une liste de tuples matérialise la table des vecteurs de test\n",
    "print(\"[E1,E2] -> S \")\n",
    "for E1, E2, Sa in Vecteurs_XOR:\n",
    "    So = (not(E1) and E2 or E1 and not(E2)) # Equation de la porte OU Exclusif, parenthèses INDISPENSABLES !\n",
    "    if Sa == So: \n",
    "        print(f\"[{E1},{E2}] -> {Sa}\") # Afficher \"Sa\" garantie d'avoir uniquement des 0 et des 1 dans la table !\n",
    "    else:\n",
    "        print(f\"[{E1},{E2}] -> Erreur\")"
   ]
  },
  {
   "cell_type": "markdown",
   "metadata": {},
   "source": [
    ">**Activité 3. Simulons des erreurs de frappe ! <br>\n",
    "> Remplacez** le vecteur (0,1,1) par (0,1,0) et testez l'opérateur. Remplacez le or par un and et testez l'opérateur.<br>\n",
    "a) Que remarquez-vous ? <br>\n",
    "b) A quoi peut-on attribuer une ou plusieurs erreurs dans la table lorsque l'on teste un circuit logique programmable réel ? Renseignez le document réponse."
   ]
  },
  {
   "cell_type": "markdown",
   "metadata": {},
   "source": [
    "### 4.C Test des sorties  RAM, ROM et OE de la fonction \"Décodage\""
   ]
  },
  {
   "cell_type": "markdown",
   "metadata": {},
   "source": [
    "> **Activité 4**. En vous inspirant de l'exemple précédent, et en utilisant les résultats des activités 1 et 2, **testez** la sortie **RAM**."
   ]
  },
  {
   "cell_type": "code",
   "execution_count": null,
   "metadata": {},
   "outputs": [],
   "source": [
    "Vecteurs_RAM = [] # A compléter\n",
    "print(\"[A15,PSEN] -> RAM\")\n",
    "# A compléter"
   ]
  },
  {
   "cell_type": "markdown",
   "metadata": {},
   "source": [
    "> **Activité 5**. En vous inspirant de l'exemple précédent, et en utilisant les résultats des activités 1 et 2, **testez** la sortie **ROM**."
   ]
  },
  {
   "cell_type": "code",
   "execution_count": null,
   "metadata": {},
   "outputs": [],
   "source": [
    "Vecteurs_ROM = []\n",
    "print(\"[A15,RD,PSEN] -> ROM\")\n",
    "# A compléter"
   ]
  },
  {
   "cell_type": "markdown",
   "metadata": {},
   "source": [
    "> **Activité 6**. En vous inspirant de l'exemple précédent, et en utilisant les résultats des activités 1 et 2, **testez** la sortie **OE**."
   ]
  },
  {
   "cell_type": "code",
   "execution_count": null,
   "metadata": {},
   "outputs": [],
   "source": [
    "Vecteurs_OE = [] # A compléter\n",
    "print(\"[A15,A14,A13,A12] -> OE\")\n",
    "# A compléter"
   ]
  },
  {
   "cell_type": "markdown",
   "metadata": {},
   "source": [
    "### 4.D Génération automatique de la table des vecteurs de test"
   ]
  },
  {
   "cell_type": "markdown",
   "metadata": {},
   "source": [
    "Lorsque le nombre d'entrées augmente, la table des vecteurs de test devient imposante. Pour **n=6**, il faut écrire **64 vecteurs**. L'écriture d'une telle table devient fastidieuse et le risque d'erreur augmente. Il devient alors nécessaire de disposer d'une fonction de génération automatique de la table des vecteurs de test. \n",
    "\n",
    "On propose l'algorithme ci-dessous."
   ]
  },
  {
   "cell_type": "raw",
   "metadata": {},
   "source": [
    "Algorithme creerVecteursTest(n,vs)\n",
    "Entrées\n",
    "n : nombre d'entrées de la fonction à tester\n",
    "vs : liste des valeurs attendues pour la sortie S de la fonction, notée Sa\n",
    "\n",
    "Sortie\n",
    "vecteurs : table des vecteurs de test\n",
    "\n",
    "début\n",
    "    pour i variant de 0 à (nombre_de_vecteur - 1) par pas de 1\n",
    "    faire\n",
    "       Construire le vecteur Vi(b_n-1, b_n-2,..., b0, Sa)\n",
    "       Ajouter Vi à vecteurs\n",
    "    fin faire\n",
    "    Renvoyer vecteurs\n",
    "fin"
   ]
  },
  {
   "cell_type": "markdown",
   "metadata": {},
   "source": [
    "**Remarque** : Python dispose de la fonction native <a href=\"https://docs.python.org/fr/3.6/library/functions.html#bin\" target=\"_blank\">bin</a>. Cette fonction convertit un nombre entier en binaire dans une chaîne avec le préfixe 0b."
   ]
  },
  {
   "cell_type": "code",
   "execution_count": null,
   "metadata": {},
   "outputs": [],
   "source": [
    "# Exemple \n",
    "bin(8)"
   ]
  },
  {
   "cell_type": "markdown",
   "metadata": {},
   "source": [
    ">**Activité 7**. **Complétez** la fonction *creerVecteursTest* ébauchée ci-dessous. *Conseil : développer la fonction dans un éditeur (VSCode, etc.) avant de la tester ici.*\n",
    ">\n",
    ">*Résultat attendu* <br>\n",
    ">[(0, 0, 0, 0), (0, 0, 1, 1), (0, 1, 0, 0), (0, 1, 1, 1), (1, 0, 0, 0), (1, 0, 1, 0), (1, 1, 0, 0), (1, 1, 1, 1)]"
   ]
  },
  {
   "cell_type": "code",
   "execution_count": null,
   "metadata": {},
   "outputs": [],
   "source": [
    "def creerVecteursTest(n, vs):\n",
    "    vecteurs = []\n",
    "    # A compléter\n",
    "    \n",
    "    return vecteurs\n",
    "\n",
    "# Test de la sortie Rom\n",
    "Roma = [0, 1, 0, 1, 0, 0, 0, 1]\n",
    "tableVecteurs = creerVecteursTest(3, Roma)\n",
    "print(tableVecteurs)"
   ]
  },
  {
   "cell_type": "markdown",
   "metadata": {},
   "source": [
    "> **Activité 8**. **Synthèse** : **utilisez** la fonction *creerVecteurTest* pour tester la sortie **OE**."
   ]
  },
  {
   "cell_type": "code",
   "execution_count": null,
   "metadata": {},
   "outputs": [],
   "source": [
    "Sa = [] # A compléter\n",
    "Vecteurs_OE = creerVecteursTest(4, Sa)\n",
    "print(\"[A15,A14,A13,A12] -> OE\")\n",
    "# A compléter"
   ]
  },
  {
   "cell_type": "code",
   "execution_count": null,
   "metadata": {},
   "outputs": [],
   "source": []
  }
 ],
 "metadata": {
  "kernelspec": {
   "display_name": "Python 3",
   "language": "python",
   "name": "python3"
  },
  "language_info": {
   "codemirror_mode": {
    "name": "ipython",
    "version": 3
   },
   "file_extension": ".py",
   "mimetype": "text/x-python",
   "name": "python",
   "nbconvert_exporter": "python",
   "pygments_lexer": "ipython3",
   "version": "3.8.8"
  }
 },
 "nbformat": 4,
 "nbformat_minor": 4
}
